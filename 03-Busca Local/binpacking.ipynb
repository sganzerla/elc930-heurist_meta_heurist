{
 "cells": [
  {
   "cell_type": "code",
   "execution_count": 4,
   "metadata": {},
   "outputs": [
    {
     "name": "stdout",
     "output_type": "stream",
     "text": [
      "LB: 6; FO/UB: 7\n",
      "[42, 69, 67] 0 3\n",
      "[57, 93, 38] 1 3\n",
      "[90, 36, 45, 27] 2 4\n",
      "[42, 33, 79, 44] 3 4\n",
      "[57, 84, 46] 4 3\n",
      "[86, 92] 5 2\n",
      "[38] 6 1\n"
     ]
    }
   ],
   "source": [
    "from math import *\n",
    "\n",
    "\n",
    "class Instance:\n",
    "    def __init__(self, W, C, S, FO, LB):\n",
    "        self.W: list = W\n",
    "        self.C: int = C\n",
    "        self.S: list = S\n",
    "        self.FO: int = FO\n",
    "        self.LB: int = LB\n",
    "\n",
    "\n",
    "def print_solution(bins: list):\n",
    "\n",
    "    aux = 0\n",
    "    for b in bins:\n",
    "        if len(b):\n",
    "            print(f'Bin: {aux + 1} Itens: {b} = {sum([j for j in b])}')\n",
    "            aux += 1\n",
    "    print(f\"Solução: {aux} bins. (Limite superior)\")\n",
    "\n",
    "\n",
    "def best_fit(W: list, C: int) -> Instance:\n",
    "    UB = len(W)  # limite superior, um bin para cada item\n",
    "    B = [[] for i in range(UB)]  # bin\n",
    "    for w in W:\n",
    "        best = [0, C]  # index, valor residual\n",
    "        for i in range(len(B)):\n",
    "            current = sum(b for b in B[i]) + w\n",
    "            if current <= C:  # se está dentro do limite do bin\n",
    "                if C - current < best[1]:\n",
    "                    best = [i, C - current]\n",
    "                    continue\n",
    "\n",
    "        B[best[0]].append(w)\n",
    "    LB = ceil(sum([i for i in W])/C)\n",
    "\n",
    "    sol = []\n",
    "    # remove slots excendentes\n",
    "    [sol.append(B[i]) for i in range(len(B)) if B[i]]\n",
    "\n",
    "    print(f\"LB: {LB}; FO/UB: {len(sol)}\")\n",
    "    return Instance(W, C, sol, len(sol), LB)\n",
    "\n",
    "\n",
    "def remove_gap(incumbente: Instance):\n",
    "    S = incumbente.S\n",
    "    # indice com menos elementos\n",
    "    index = 0  \n",
    "    for i in range(len(S)):\n",
    "        if i > 0:\n",
    "            print(S[i], i, len(S[i]))\n",
    "\n",
    "\n",
    "if __name__ == \"__main__\":\n",
    "\n",
    "    # params\n",
    "    W = [42, 69, 67, 57, 93, 90, 38, 36, 45, 42, 33,\n",
    "         79, 27, 57, 44, 84, 86, 92, 46, 38]  # itens\n",
    "    C = 200  # capacidade de armazenamento\n",
    "\n",
    "    # fase1: têm que apresentar uma solução factível, LB, FO\n",
    "    sol = best_fit(W, C)\n",
    "\n",
    "    # fase2: somente se LB < FO, senão FO já é ótima\n",
    "    remove_gap(sol)\n"
   ]
  }
 ],
 "metadata": {
  "kernelspec": {
   "display_name": "Python 3.9.13 64-bit (microsoft store)",
   "language": "python",
   "name": "python3"
  },
  "language_info": {
   "codemirror_mode": {
    "name": "ipython",
    "version": 3
   },
   "file_extension": ".py",
   "mimetype": "text/x-python",
   "name": "python",
   "nbconvert_exporter": "python",
   "pygments_lexer": "ipython3",
   "version": "3.9.13"
  },
  "orig_nbformat": 4,
  "vscode": {
   "interpreter": {
    "hash": "d4ecc00314b053340c011f30feae2cb0599056a19fa729c140ca6ecfe444bda2"
   }
  }
 },
 "nbformat": 4,
 "nbformat_minor": 2
}
