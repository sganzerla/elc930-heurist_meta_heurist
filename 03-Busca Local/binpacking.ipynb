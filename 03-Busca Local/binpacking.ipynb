{
 "cells": [
  {
   "cell_type": "code",
   "execution_count": 3,
   "metadata": {},
   "outputs": [
    {
     "name": "stdout",
     "output_type": "stream",
     "text": [
      "Bin: 1 Itens: [42, 69, 67] = 178\n",
      "Bin: 2 Itens: [57, 93, 38] = 188\n",
      "Bin: 3 Itens: [90, 36, 45, 27] = 198\n",
      "Bin: 4 Itens: [42, 33, 79, 44] = 198\n",
      "Bin: 5 Itens: [57, 84, 46] = 187\n",
      "Bin: 6 Itens: [86, 92] = 178\n",
      "Bin: 7 Itens: [38] = 38\n",
      "Solução: 7 bins. (Limite superior)\n",
      "7\n"
     ]
    }
   ],
   "source": [
    "class Instance:\n",
    "    def __init__(self, W, C, S, FO):\n",
    "        self.W: list[int] = W\n",
    "        self.C: int = C\n",
    "        self.S: list[list[int]] = S\n",
    "        self.FO: int = FO\n",
    "\n",
    "\n",
    "def print_solution(bins: list):\n",
    "\n",
    "    aux = 0\n",
    "    for b in bins:\n",
    "        if len(b):\n",
    "            print(f'Bin: {aux + 1} Itens: {b} = {sum([j for j in b])}')\n",
    "            aux += 1\n",
    "    print(f\"Solução: {aux} bins. (Limite superior)\")\n",
    "\n",
    "\n",
    "def best_fit(W: list, C: int) -> Instance:\n",
    "    UB = len(W)  # limite superior, um bin para cada item\n",
    "    B = [[] for i in range(UB)]  # bin\n",
    "    for w in W:\n",
    "        best = [0, C]  # index, valor residual\n",
    "        for i in range(len(B)):\n",
    "            current = sum(b for b in B[i]) + w\n",
    "            if current <= C:  # se está dentro do limite do bin\n",
    "                if C - current < best[1]:\n",
    "                    best = [i, C - current]\n",
    "                    continue\n",
    "\n",
    "        B[best[0]].append(w)\n",
    "\n",
    "    aux = 0\n",
    "    for b in B:\n",
    "        if len(b):\n",
    "            print(f'Bin: {aux + 1} Itens: {b} = {sum([j for j in b])}')\n",
    "            aux += 1\n",
    "    print(f\"Solução: {aux} bins. (Limite superior)\")\n",
    "    return Instance(W, C, B, aux)\n",
    "\n",
    "\n",
    "if __name__ == \"__main__\":\n",
    "    from math import *\n",
    "    W = [42, 69, 67, 57, 93, 90, 38, 36, 45, 42, 33,\n",
    "         79, 27, 57, 44, 84, 86, 92, 46, 38]  # itens\n",
    "    C = 200  # capacidade de armazenamento\n",
    "    sol = best_fit(W, C)\n"
   ]
  }
 ],
 "metadata": {
  "kernelspec": {
   "display_name": "Python 3.9.13 64-bit (microsoft store)",
   "language": "python",
   "name": "python3"
  },
  "language_info": {
   "codemirror_mode": {
    "name": "ipython",
    "version": 3
   },
   "file_extension": ".py",
   "mimetype": "text/x-python",
   "name": "python",
   "nbconvert_exporter": "python",
   "pygments_lexer": "ipython3",
   "version": "3.9.13"
  },
  "orig_nbformat": 4,
  "vscode": {
   "interpreter": {
    "hash": "d4ecc00314b053340c011f30feae2cb0599056a19fa729c140ca6ecfe444bda2"
   }
  }
 },
 "nbformat": 4,
 "nbformat_minor": 2
}
