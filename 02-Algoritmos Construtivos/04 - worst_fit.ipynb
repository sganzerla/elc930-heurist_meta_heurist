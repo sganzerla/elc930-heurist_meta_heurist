{
 "cells": [
  {
   "cell_type": "markdown",
   "metadata": {},
   "source": [
    "# Bin Packing\n",
    "\n",
    "Distribuir itens com tamanhos variados dentro de x compartimentos com y capacidade de armazenamento, de modo a reduzir a quantidade de compartimentos usados. Necessário apresentar a lista de itens de cada compartimento.\n",
    "\n",
    "## Instância de exemplo\n",
    "\n",
    "$n = 9$\n",
    "\n",
    "$w_j = \\lbrace 70, 33, 11, 60, 33, 50, 7, 3, 33  \\rbrace $\n",
    "\n",
    "$c = 100 $\n",
    "\n",
    "Limitante inferior, obriga a utilização de no mínimo 3 compartimentos de armazenamento.\n",
    "\n",
    "$ Li = (\\sum_j w_j) / c = 3$\n"
   ]
  },
  {
   "cell_type": "markdown",
   "metadata": {},
   "source": [
    "# WORST FIT\n",
    "\n",
    "Primeiro item é alocado ao bin 1, os demais são considerados na ordem que aparecem e são alocados ao bin que resulte na maior capacidade residual se couber senão inicio um novo bin. Em caso de empata coloco no bin de maior índice."
   ]
  },
  {
   "cell_type": "code",
   "execution_count": 5,
   "metadata": {},
   "outputs": [
    {
     "name": "stdout",
     "output_type": "stream",
     "text": [
      "WORST FIT\n",
      "[70, 33, 11, 60, 33, 50, 7, 3, 33]\n",
      "Bin: 1 Itens: [70] = 70\n",
      "Bin: 2 Itens: [33, 11, 33] = 77\n",
      "Bin: 3 Itens: [60] = 60\n",
      "Bin: 4 Itens: [50, 7, 3, 33] = 93\n",
      "Solução: 4 bins.\n",
      "WORST FIT DECREASING\n",
      "[70, 60, 50, 33, 33, 33, 11, 7, 3]\n",
      "Bin: 1 Itens: [70, 3] = 73\n",
      "Bin: 2 Itens: [60, 11] = 71\n",
      "Bin: 3 Itens: [50, 33] = 83\n",
      "Bin: 4 Itens: [33, 33, 7] = 73\n",
      "Solução: 4 bins.\n"
     ]
    }
   ],
   "source": [
    "def print_solution(bins: list):\n",
    "\n",
    "    aux = 0\n",
    "    for b in bins:\n",
    "        if len(b):\n",
    "            print(f'Bin: {aux + 1} Itens: {b} = {sum([j for j in b])}')\n",
    "            aux += 1\n",
    "    print(f\"Solução: {aux} bins.\")\n",
    "\n",
    "\n",
    "def worst_fit(W: list, C: int):\n",
    "\n",
    "    # TODO fazer\n",
    "    B = [[] for i in range(len(W))]\n",
    "    for w in W:\n",
    "        worst = [0, 0]  # index, valor residual\n",
    "        for i in range(len(B)):\n",
    "            current = sum(b for b in B[i]) + w\n",
    "            if current <= C:\n",
    "                if C - current >= worst[1] and current != w:\n",
    "                    worst = [i, C - current]\n",
    "                    continue\n",
    "            else:\n",
    "                worst = [i + 1, C - current]\n",
    "        B[worst[0]].append(w)\n",
    "    print_solution(B)\n",
    "\n",
    "\n",
    "if __name__ == \"__main__\":\n",
    "    W = [70, 33, 11, 60, 33, 50, 7, 3, 33]  # itens\n",
    "    C = 100  # capacidade de armazenamento\n",
    "    print(\"WORST FIT\")\n",
    "    worst_fit(W, C)\n",
    "    W.sort(reverse=True)\n",
    "    print(\"WORST FIT DECREASING\")\n",
    "    worst_fit(W, C)\n"
   ]
  }
 ],
 "metadata": {
  "kernelspec": {
   "display_name": "Python 3.9.13 64-bit (microsoft store)",
   "language": "python",
   "name": "python3"
  },
  "language_info": {
   "codemirror_mode": {
    "name": "ipython",
    "version": 3
   },
   "file_extension": ".py",
   "mimetype": "text/x-python",
   "name": "python",
   "nbconvert_exporter": "python",
   "pygments_lexer": "ipython3",
   "version": "3.9.13"
  },
  "orig_nbformat": 4,
  "vscode": {
   "interpreter": {
    "hash": "d4ecc00314b053340c011f30feae2cb0599056a19fa729c140ca6ecfe444bda2"
   }
  }
 },
 "nbformat": 4,
 "nbformat_minor": 2
}
