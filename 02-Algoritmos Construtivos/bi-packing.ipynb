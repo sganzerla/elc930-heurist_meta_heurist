{
 "cells": [
  {
   "cell_type": "markdown",
   "metadata": {},
   "source": [
    "# Bin Packing\n",
    "\n",
    "Distribuir itens com tamanhos variados dentro de x compartimentos com y capacidade de armazenamento, de modo a reduzir a quantidade de compartimentos usados. Necessário apresentar a lista de itens de cada compartimento.\n",
    "\n",
    "## Instância de exemplo\n",
    "\n",
    "$n = 9$\n",
    "\n",
    "$w_j = \\lbrace 70, 33, 11, 60, 33, 50, 7, 3, 33  \\rbrace $\n",
    "\n",
    "$c = 100 $\n",
    "\n",
    "Limitante inferior, obriga a utilização de no mínimo 3 compartimentos de armazenamento.\n",
    "\n",
    "$ Li = (\\sum_j w_j) / c = 3$\n"
   ]
  },
  {
   "cell_type": "markdown",
   "metadata": {},
   "source": [
    "## NEXT FIT\n",
    "\n",
    "Primeiro item é alocado no bin1, os demais em ordem que aparecem, são armazenados no bin atual, se couberem. Caso contrário utilizo um novo bin para armazená-los."
   ]
  },
  {
   "cell_type": "code",
   "execution_count": 10,
   "metadata": {},
   "outputs": [
    {
     "name": "stdout",
     "output_type": "stream",
     "text": [
      "Solução: 4 bins.\n",
      "Bin: 1 Itens: [70] = 70\n",
      "Bin: 2 Itens: [33, 11] = 44\n",
      "Bin: 3 Itens: [60, 33] = 93\n",
      "Bin: 4 Itens: [50, 7, 3, 33] = 93\n"
     ]
    }
   ],
   "source": [
    "def print_solution(n_bins: int, bins: list):\n",
    "\n",
    "    print(f\"Solução: {n_bins + 1} bins.\")\n",
    "    aux = 0\n",
    "    for b in bins:\n",
    "        if len(b):\n",
    "            print(f'Bin: {aux + 1} Itens: {b} = {sum([j for j in b])}')\n",
    "            aux += 1\n",
    "\n",
    "\n",
    "def next_fit(W: list, C: int):\n",
    "    UB = len(W)  # limite superior, quantidade de itens\n",
    "    B = [[] for i in range(UB)]  # bin\n",
    "    i = 0  # indice do bin\n",
    "    for w in W:\n",
    "        if sum(b for b in B[i]) + w <= C:\n",
    "            B[i].append(w)\n",
    "        else:\n",
    "            i += 1\n",
    "            B[i].append(w)\n",
    "\n",
    "    print_solution(i, B)\n",
    "\n",
    "\n",
    "if __name__ == \"__main__\":\n",
    "    W = [70, 33, 11, 60, 33, 50, 7, 3, 33]  # itens\n",
    "    C = 100  # capacidade de armazenamento\n",
    "    next_fit(W, C)\n"
   ]
  },
  {
   "cell_type": "markdown",
   "metadata": {},
   "source": [
    "## FIRST FIT\n",
    "\n",
    "Primeiro item é alocado ao bin 1, os próximos são alocados ao primeiro bin utilizado se ainda possuir capacidade. Caso contrário aloco um novo bin."
   ]
  },
  {
   "cell_type": "code",
   "execution_count": 2,
   "metadata": {},
   "outputs": [
    {
     "name": "stdout",
     "output_type": "stream",
     "text": [
      "Bin: 1 Itens: [70, 11, 7, 3] = 91\n",
      "Bin: 2 Itens: [33, 60] = 93\n",
      "Bin: 3 Itens: [33, 50] = 83\n",
      "Bin: 4 Itens: [33] = 33\n",
      "Solução: 4 bins.\n"
     ]
    }
   ],
   "source": [
    "def print_solution(n_bins: int, bins: list):\n",
    "\n",
    "    aux = 0\n",
    "    for b in bins:\n",
    "        if len(b):\n",
    "            print(f'Bin: {aux + 1} Itens: {b} = {sum([j for j in b])}')\n",
    "            aux += 1\n",
    "    print(f\"Solução: {aux} bins.\")\n",
    "\n",
    "\n",
    "def first_fit(W: list, C: int):\n",
    "    UB = len(W)  # limite superior, um bin para cada item\n",
    "    B = [[] for i in range(UB)]  # bin\n",
    "    for w in W:\n",
    "        w_stored = False\n",
    "        for i in range(len(B)):\n",
    "            if sum(b for b in B[i]) + w <= C and not w_stored:\n",
    "                B[i].append(w)\n",
    "                w_stored = True            \n",
    "                continue\n",
    "            \n",
    "    print_solution(i, B)\n",
    "\n",
    "\n",
    "if __name__ == \"__main__\":\n",
    "    W = [70, 33, 11, 60, 33, 50, 7, 3, 33]  # itens\n",
    "    C = 100  # capacidade de armazenamento\n",
    "    first_fit(W, C)\n"
   ]
  },
  {
   "cell_type": "markdown",
   "metadata": {},
   "source": [
    "# BEST FIT ( tá errada )\n",
    "\n",
    "Primeiro item é alocado ao bin 1. Os n próximos são guardados no bin que resulte na menor capacidade residual (em caso de empate coloco no de menor índice). Caso contrário aloco em um novo bin."
   ]
  },
  {
   "cell_type": "code",
   "execution_count": null,
   "metadata": {},
   "outputs": [
    {
     "name": "stdout",
     "output_type": "stream",
     "text": [
      "Solução: 6 bins.\n",
      "Bin: 1 Itens: [70, 11, 7, 3] = 91\n",
      "Bin: 2 Itens: [33, 33, 33] = 99\n",
      "Bin: 3 Itens: [60, 33] = 93\n",
      "Bin: 4 Itens: [33] = 33\n",
      "Bin: 5 Itens: [50] = 50\n"
     ]
    }
   ],
   "source": [
    "def print_solution(n_bins: int, bins: list):\n",
    "\n",
    "    print(f\"Solução: {n_bins + 1} bins.\")\n",
    "    aux = 0\n",
    "    for b in bins:\n",
    "        if len(b):\n",
    "            print(f'Bin: {aux + 1} Itens: {b} = {sum([j for j in b])}')\n",
    "            aux += 1\n",
    "\n",
    "\n",
    "def best_fit(W: list, C: int):\n",
    "    UB = len(W)  # limite superior, quantidade de itens\n",
    "\n",
    "    B = [[] for i in range(UB)]  # bin\n",
    "    i = 0  # indice do bin\n",
    "    for w in W:\n",
    "        A = [0, C]  # ajustado menor área resisual\n",
    "        for ii in range(i + 1):\n",
    "            current = sum(b for b in B[i]) + w\n",
    "            if(A[1] > current):\n",
    "                A[0] = ii\n",
    "                A[1] = current\n",
    "\n",
    "        if sum(b for b in B[A[0]]) + w <= C:\n",
    "            B[A[0]].append(w)\n",
    "        else:\n",
    "            stored = False\n",
    "            # se o item não coube no bin atual ele vai tentar nos bins anteriores\n",
    "            for ii in range(i):\n",
    "                if sum(b for b in B[ii]) + w <= C:\n",
    "                    B[ii].append(w)\n",
    "                    stored = True\n",
    "                    continue\n",
    "            i += 1\n",
    "            # se não coube nos bins anteriores começo um novo\n",
    "            if not stored:\n",
    "                B[i].append(w)\n",
    "\n",
    "    print_solution(i, B)\n",
    "\n",
    "\n",
    "if __name__ == \"__main__\":\n",
    "    W = [70, 33, 11, 60, 33, 50, 7, 3, 33]  # itens\n",
    "    C = 100  # capacidade de armazenamento\n",
    "    best_fit(W, C)\n"
   ]
  },
  {
   "cell_type": "markdown",
   "metadata": {},
   "source": [
    "# WORST FIT\n",
    "\n",
    "Primeiro item é alocado ao bin 1, os demais são considerados na ordem que aparecem e são alocados ao bin que resulte na maior capacidade residual se couber senão inicio um novo bin."
   ]
  },
  {
   "cell_type": "code",
   "execution_count": null,
   "metadata": {},
   "outputs": [
    {
     "name": "stdout",
     "output_type": "stream",
     "text": [
      "[0, 100] [0, 78]\n",
      "[0, 100] [0, 73]\n",
      "[0, 100] [0, 57]\n",
      "[0, 100] [0, 53]\n",
      "[0, 100] [0, 83]\n",
      "Solução: 6 bins.\n",
      "Bin: 1 Itens: [70, 11, 7, 3] = 91\n",
      "Bin: 2 Itens: [33, 33, 33] = 99\n",
      "Bin: 3 Itens: [60, 33] = 93\n",
      "Bin: 4 Itens: [33] = 33\n",
      "Bin: 5 Itens: [50] = 50\n"
     ]
    }
   ],
   "source": [
    "W = [70, 33, 11, 60, 33, 50, 7, 3, 33]  # itens\n",
    "C = 100  # capacidade de armazenamento\n",
    "LB = int(sum(i for i in W) / C)  # limitante inferior\n",
    "UB = len(W)  # limite superior, quantidade de itens\n",
    "\n",
    "B = [[] for i in range(UB)]  # bin\n",
    "i = 0  # indice do bin\n",
    "for w in W:\n",
    "    t = [0, C]  # index, tighter\n",
    "    for ii in range(i):\n",
    "        current = C - sum(b for b in B[i]) + w\n",
    "        if t[1] > current:\n",
    "            print(t, [ii, current])\n",
    "            t = [ii, current]\n",
    "\n",
    "    if sum(b for b in B[t[0]]) + w <= C:\n",
    "        B[t[0]].append(w)\n",
    "    else:\n",
    "        stored = False\n",
    "        # se o item não coube no bin atual ele vai tentar nos bins anteriores\n",
    "        for ii in range(i):\n",
    "            if sum(b for b in B[ii]) + w <= C:\n",
    "                B[ii].append(w)\n",
    "                stored = True\n",
    "                continue\n",
    "        i += 1\n",
    "        # se não coube nos bins anteriores começo um novo\n",
    "        if not stored:\n",
    "            B[i].append(w)\n",
    "\n",
    "print(f\"Solução: {i + 1} bins.\")\n",
    "\n",
    "aux = 0\n",
    "for b in B:\n",
    "    if len(b):\n",
    "        print(f'Bin: {aux + 1} Itens: {b} = {sum([j for j in b])}')\n",
    "        aux += 1\n"
   ]
  }
 ],
 "metadata": {
  "kernelspec": {
   "display_name": "Python 3.9.13 64-bit (microsoft store)",
   "language": "python",
   "name": "python3"
  },
  "language_info": {
   "codemirror_mode": {
    "name": "ipython",
    "version": 3
   },
   "file_extension": ".py",
   "mimetype": "text/x-python",
   "name": "python",
   "nbconvert_exporter": "python",
   "pygments_lexer": "ipython3",
   "version": "3.9.13"
  },
  "orig_nbformat": 4,
  "vscode": {
   "interpreter": {
    "hash": "d4ecc00314b053340c011f30feae2cb0599056a19fa729c140ca6ecfe444bda2"
   }
  }
 },
 "nbformat": 4,
 "nbformat_minor": 2
}
