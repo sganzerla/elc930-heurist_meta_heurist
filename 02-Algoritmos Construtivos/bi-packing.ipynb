{
 "cells": [
  {
   "cell_type": "markdown",
   "metadata": {},
   "source": [
    "# Bin Packing\n",
    "\n",
    "Distribuir itens com tamanhos variados dentro de x compartimentos com y capacidade de armazenamento, de modo a reduzir a quantidade de compartimentos usados. Necessário apresentar a lista de itens de cada compartimento.\n",
    "\n",
    "## Instância de exemplo\n",
    "\n",
    "$n = 9$\n",
    "\n",
    "$w_j = \\lbrace 70, 33, 11, 60, 33, 50, 7, 3, 33  \\rbrace $\n",
    "\n",
    "$c = 100 $\n",
    "\n",
    "Limitante inferior, obriga a utilização de no mínimo 3 compartimentos de armazenamento.\n",
    "\n",
    "$ Li = (\\sum_j w_j) / c = 3$\n"
   ]
  },
  {
   "cell_type": "markdown",
   "metadata": {},
   "source": [
    "## NEXT FIT\n",
    "\n",
    "Primeiro item é alocado no bin1, os demais em ordem que aparecem, são armazenados no bin atual, se couberem. Caso contrário utilizo um novo bin para armazená-los."
   ]
  },
  {
   "cell_type": "code",
   "execution_count": 49,
   "metadata": {},
   "outputs": [
    {
     "name": "stdout",
     "output_type": "stream",
     "text": [
      "(0, [70])\n",
      "(1, [33, 11])\n",
      "(2, [60, 33])\n",
      "(3, [50, 7, 3, 33])\n"
     ]
    }
   ],
   "source": [
    "W = [70, 33, 11, 60, 33, 50, 7, 3, 33]  # itens\n",
    "C = 100  # capacidade de armazenamento\n",
    "LB = int(sum(i for i in W) / C)  # limitante inferior\n",
    "UB = len(W)  # limite superior, quantidade de itens\n",
    "\n",
    "B = {i: i for i in range(UB)}  # bin\n",
    "E = []  # elementos do bin\n",
    "i = 0  # indice do bin\n",
    "for w in W:\n",
    "    if sum(e for e in E) + w <= C:\n",
    "        E.append(w)\n",
    "        B[i] = E\n",
    "    else:\n",
    "        E = []\n",
    "        E.append(w)\n",
    "        i += 1\n",
    "\n",
    "for i in B.items():\n",
    "    if not type(i[1]) == int:\n",
    "        print(i)\n"
   ]
  }
 ],
 "metadata": {
  "kernelspec": {
   "display_name": "Python 3.9.13 64-bit (microsoft store)",
   "language": "python",
   "name": "python3"
  },
  "language_info": {
   "codemirror_mode": {
    "name": "ipython",
    "version": 3
   },
   "file_extension": ".py",
   "mimetype": "text/x-python",
   "name": "python",
   "nbconvert_exporter": "python",
   "pygments_lexer": "ipython3",
   "version": "3.9.13"
  },
  "orig_nbformat": 4,
  "vscode": {
   "interpreter": {
    "hash": "d4ecc00314b053340c011f30feae2cb0599056a19fa729c140ca6ecfe444bda2"
   }
  }
 },
 "nbformat": 4,
 "nbformat_minor": 2
}
