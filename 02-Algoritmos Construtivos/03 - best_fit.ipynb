{
 "cells": [
  {
   "cell_type": "markdown",
   "metadata": {},
   "source": [
    "# Bin Packing\n",
    "\n",
    "Distribuir itens com tamanhos variados dentro de x compartimentos com y capacidade de armazenamento, de modo a reduzir a quantidade de compartimentos usados. Necessário apresentar a lista de itens de cada compartimento.\n",
    "\n",
    "## Instância de exemplo\n",
    "\n",
    "$n = 9$\n",
    "\n",
    "$w_j = \\lbrace 70, 33, 11, 60, 33, 50, 7, 3, 33  \\rbrace $\n",
    "\n",
    "$c = 100 $\n",
    "\n",
    "Limitante inferior, obriga a utilização de no mínimo 3 compartimentos de armazenamento.\n",
    "\n",
    "$ Li = (\\sum_j w_j) / c = 3$\n"
   ]
  },
  {
   "cell_type": "markdown",
   "metadata": {},
   "source": [
    "# BEST FIT E BEST FIT DECREASING\n",
    "\n",
    "Primeiro item é alocado ao bin 1. Os n próximos são guardados no bin que resulte na menor capacidade residual (em caso de empate coloco no de menor índice). Caso contrário aloco em um novo bin."
   ]
  },
  {
   "cell_type": "code",
   "execution_count": 1,
   "metadata": {},
   "outputs": [
    {
     "name": "stdout",
     "output_type": "stream",
     "text": [
      "\n",
      "BEST FIT\n",
      "Bin: 1 Itens: [70, 11] = 81\n",
      "Bin: 2 Itens: [33, 60, 7] = 100\n",
      "Bin: 3 Itens: [33, 50, 3] = 86\n",
      "Bin: 4 Itens: [33] = 33\n",
      "Solução: 4 bins.\n",
      "\n",
      "BEST FIT DECREASING\n",
      "Bin: 1 Itens: [70] = 70\n",
      "Bin: 2 Itens: [60, 33, 7] = 100\n",
      "Bin: 3 Itens: [50, 33, 11, 3] = 97\n",
      "Bin: 4 Itens: [33] = 33\n",
      "Solução: 4 bins.\n"
     ]
    }
   ],
   "source": [
    "def print_solution(bins: list):\n",
    "\n",
    "    aux = 0\n",
    "    for b in bins:\n",
    "        if len(b):\n",
    "            print(f'Bin: {aux + 1} Itens: {b} = {sum([j for j in b])}')\n",
    "            aux += 1\n",
    "    print(f\"Solução: {aux} bins.\")\n",
    "\n",
    "\n",
    "def best_fit(W: list, C: int):\n",
    "    UB = len(W)  # limite superior, um bin para cada item\n",
    "    B = [[] for i in range(UB)]  # bin\n",
    "    for w in W:\n",
    "        best = [0, C]  # index, valor residual\n",
    "        for i in range(len(B)):\n",
    "            current = sum(b for b in B[i]) + w\n",
    "            if current <= C:  # se está dentro do limite do bin\n",
    "                if C - current < best[1]:\n",
    "                    best = [i, C - current]\n",
    "                    continue\n",
    "\n",
    "        B[best[0]].append(w)\n",
    "\n",
    "    print_solution(B)\n",
    "\n",
    "\n",
    "if __name__ == \"__main__\":\n",
    "    W = [70, 33, 11, 60, 33, 50, 7, 3, 33]  # itens\n",
    "    C = 100  # capacidade de armazenamento\n",
    "    print(\"\\nBEST FIT\")\n",
    "    best_fit(W, C)\n",
    "    W.sort(reverse=True)\n",
    "    print(\"\\nBEST FIT DECREASING\")\n",
    "    best_fit(W, C)\n"
   ]
  }
 ],
 "metadata": {
  "kernelspec": {
   "display_name": "Python 3.9.13 64-bit (microsoft store)",
   "language": "python",
   "name": "python3"
  },
  "language_info": {
   "codemirror_mode": {
    "name": "ipython",
    "version": 3
   },
   "file_extension": ".py",
   "mimetype": "text/x-python",
   "name": "python",
   "nbconvert_exporter": "python",
   "pygments_lexer": "ipython3",
   "version": "3.9.13"
  },
  "orig_nbformat": 4,
  "vscode": {
   "interpreter": {
    "hash": "d4ecc00314b053340c011f30feae2cb0599056a19fa729c140ca6ecfe444bda2"
   }
  }
 },
 "nbformat": 4,
 "nbformat_minor": 2
}
