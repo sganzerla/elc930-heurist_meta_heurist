{
 "cells": [
  {
   "cell_type": "markdown",
   "metadata": {},
   "source": [
    "# Bin Packing\n",
    "\n",
    "Distribuir itens com tamanhos variados dentro de x compartimentos com y capacidade de armazenamento, de modo a reduzir a quantidade de compartimentos usados. Necessário apresentar a lista de itens de cada compartimento.\n",
    "\n",
    "## Instância de exemplo\n",
    "\n",
    "$n = 9$\n",
    "\n",
    "$w_j = \\lbrace 70, 33, 11, 60, 33, 50, 7, 3, 33  \\rbrace $\n",
    "\n",
    "$c = 100 $\n",
    "\n",
    "Limitante inferior, obriga a utilização de no mínimo 3 compartimentos de armazenamento.\n",
    "\n",
    "$ Li = (\\sum_j w_j) / c = 3$\n"
   ]
  },
  {
   "cell_type": "markdown",
   "metadata": {},
   "source": [
    "## NEXT FIT E NEXT FIT DECREASING \n",
    "\n",
    "Primeiro item é alocado no bin1, os demais em ordem que aparecem, são armazenados no bin atual, se couberem. Caso contrário utilizo um novo bin para armazená-los."
   ]
  },
  {
   "cell_type": "code",
   "execution_count": 1,
   "metadata": {},
   "outputs": [
    {
     "name": "stdout",
     "output_type": "stream",
     "text": [
      "\n",
      "NEXT FIT\n",
      "Bin: 1 Itens: [70] = 70\n",
      "Bin: 2 Itens: [33, 11] = 44\n",
      "Bin: 3 Itens: [60, 33] = 93\n",
      "Bin: 4 Itens: [50, 7, 3, 33] = 93\n",
      "Solução: 4 bins.\n",
      "\n",
      "NEXT FIT DECREASING\n",
      "Bin: 1 Itens: [70] = 70\n",
      "Bin: 2 Itens: [60] = 60\n",
      "Bin: 3 Itens: [50, 33] = 83\n",
      "Bin: 4 Itens: [33, 33, 11, 7, 3] = 87\n",
      "Solução: 4 bins.\n"
     ]
    }
   ],
   "source": [
    "def print_solution(bins: list):\n",
    "\n",
    "    aux = 0\n",
    "    for b in bins:\n",
    "        if len(b):\n",
    "            print(f'Bin: {aux + 1} Itens: {b} = {sum([j for j in b])}')\n",
    "            aux += 1\n",
    "    print(f\"Solução: {aux} bins.\")\n",
    "\n",
    "\n",
    "def next_fit(W: list, C: int):\n",
    "    UB = len(W)  # limite superior, quantidade de itens\n",
    "    B = [[] for i in range(UB)]  # bin\n",
    "    i = 0  # indice do bin\n",
    "    for w in W:\n",
    "        if sum(b for b in B[i]) + w <= C:\n",
    "            B[i].append(w)\n",
    "        else:\n",
    "            i += 1\n",
    "            B[i].append(w)\n",
    "\n",
    "    print_solution(B)\n",
    "\n",
    "\n",
    "if __name__ == \"__main__\":\n",
    "    W = [70, 33, 11, 60, 33, 50, 7, 3, 33]  # itens\n",
    "    C = 100  # capacidade de armazenamento\n",
    "    print(\"\\nNEXT FIT\")\n",
    "    next_fit(W, C)\n",
    "    W.sort(reverse=True)\n",
    "    print(\"\\nNEXT FIT DECREASING\")\n",
    "    next_fit(W, C)\n"
   ]
  }
 ],
 "metadata": {
  "kernelspec": {
   "display_name": "Python 3.9.13 64-bit (microsoft store)",
   "language": "python",
   "name": "python3"
  },
  "language_info": {
   "codemirror_mode": {
    "name": "ipython",
    "version": 3
   },
   "file_extension": ".py",
   "mimetype": "text/x-python",
   "name": "python",
   "nbconvert_exporter": "python",
   "pygments_lexer": "ipython3",
   "version": "3.9.13"
  },
  "orig_nbformat": 4,
  "vscode": {
   "interpreter": {
    "hash": "d4ecc00314b053340c011f30feae2cb0599056a19fa729c140ca6ecfe444bda2"
   }
  }
 },
 "nbformat": 4,
 "nbformat_minor": 2
}
